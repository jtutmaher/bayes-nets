{
 "cells": [
  {
   "cell_type": "code",
   "execution_count": 2,
   "metadata": {
    "collapsed": false
   },
   "outputs": [],
   "source": [
    "from bayesian.bbn import build_bbn\n",
    "import numpy as np"
   ]
  },
  {
   "cell_type": "code",
   "execution_count": 3,
   "metadata": {
    "collapsed": true
   },
   "outputs": [],
   "source": [
    "# DEFINE BBN NODES AND CPTs\n",
    "def Pollution_Node(P):\n",
    "    '''Pollution'''\n",
    "    if P == 'high':\n",
    "        return 0.1\n",
    "    elif P == 'low':\n",
    "        return 0.9\n",
    "\n",
    "\n",
    "def Smoker_Node(S):\n",
    "    '''Smoker'''\n",
    "    if S is True:\n",
    "        return 0.3\n",
    "    elif S is False:\n",
    "        return 0.7\n",
    "\n",
    "\n",
    "def Cancer_Node(P, S, C):\n",
    "    '''Cancer'''\n",
    "    table = dict()\n",
    "    table['ttt'] = 0.05\n",
    "    table['ttf'] = 0.95\n",
    "    table['tft'] = 0.02\n",
    "    table['tff'] = 0.98\n",
    "    table['ftt'] = 0.03\n",
    "    table['ftf'] = 0.97\n",
    "    table['fft'] = 0.001\n",
    "    table['fff'] = 0.999\n",
    "    key = ''\n",
    "    key = key + 't' if P == 'high' else key + 'f'\n",
    "    key = key + 't' if S else key + 'f'\n",
    "    key = key + 't' if C else key + 'f'\n",
    "    return table[key]\n",
    "\n",
    "\n",
    "def Xray_Node(C, X):\n",
    "    '''X-ray'''\n",
    "    table = dict()\n",
    "    table['tt'] = 0.9\n",
    "    table['tf'] = 0.1\n",
    "    table['ft'] = 0.2\n",
    "    table['ff'] = 0.8\n",
    "    key = ''\n",
    "    key = key + 't' if C else key + 'f'\n",
    "    key = key + 't' if X else key + 'f'\n",
    "    return table[key]\n",
    "\n",
    "\n",
    "def Dyspnoeia_Node(C, D):\n",
    "    '''Dyspnoeia'''\n",
    "    table = dict()\n",
    "    table['tt'] = 0.65\n",
    "    table['tf'] = 0.35\n",
    "    table['ft'] = 0.3\n",
    "    table['ff'] = 0.7\n",
    "    key = ''\n",
    "    key = key + 't' if C else key + 'f'\n",
    "    key = key + 't' if D else key + 'f'\n",
    "    return table[key]"
   ]
  },
  {
   "cell_type": "code",
   "execution_count": 5,
   "metadata": {
    "collapsed": false
   },
   "outputs": [
    {
     "name": "stdout",
     "output_type": "stream",
     "text": [
      "+------+-------+----------+\n",
      "| Node | Value | Marginal |\n",
      "+------+-------+----------+\n",
      "| C    | False | 0.988370 |\n",
      "| C    | True  | 0.011630 |\n",
      "| D    | False | 0.695929 |\n",
      "| D    | True  | 0.304070 |\n",
      "| P    | high  | 0.100000 |\n",
      "| P    | low   | 0.900000 |\n",
      "| S    | False | 0.700000 |\n",
      "| S    | True  | 0.300000 |\n",
      "| X    | False | 0.791859 |\n",
      "| X    | True  | 0.208141 |\n",
      "+------+-------+----------+\n"
     ]
    }
   ],
   "source": [
    "g = build_bbn(Pollution_Node, Smoker_Node, Cancer_Node, Xray_Node, Dyspnoeia_Node,domains={'P': ['low', 'high']})\n",
    "g.q()"
   ]
  },
  {
   "cell_type": "code",
   "execution_count": 6,
   "metadata": {
    "collapsed": false
   },
   "outputs": [
    {
     "name": "stdout",
     "output_type": "stream",
     "text": [
      "+------+-------+----------+\n",
      "| Node | Value | Marginal |\n",
      "+------+-------+----------+\n",
      "| C    | False | 0.971000 |\n",
      "| C    | True  | 0.029000 |\n",
      "| D    | False | 0.689850 |\n",
      "| D    | True  | 0.310150 |\n",
      "| P    | low   | 0.000000 |\n",
      "| P*   | \u001b[92mhigh*\u001b[0m | 1.000000 |\n",
      "| S    | False | 0.700000 |\n",
      "| S    | True  | 0.300000 |\n",
      "| X    | False | 0.779700 |\n",
      "| X    | True  | 0.220300 |\n",
      "+------+-------+----------+\n"
     ]
    }
   ],
   "source": [
    "g.q(P='high')"
   ]
  },
  {
   "cell_type": "code",
   "execution_count": 7,
   "metadata": {
    "collapsed": false
   },
   "outputs": [
    {
     "name": "stdout",
     "output_type": "stream",
     "text": [
      "+------+-------+----------+\n",
      "| Node | Value | Marginal |\n",
      "+------+-------+----------+\n",
      "| C    | False | 0.975139 |\n",
      "| C    | True  | 0.024861 |\n",
      "| D    | False | 0.000000 |\n",
      "| D*   | \u001b[92mTrue*\u001b[0m | 1.000000 |\n",
      "| P    | high  | 0.101999 |\n",
      "| P    | low   | 0.898001 |\n",
      "| S    | False | 0.692966 |\n",
      "| S    | True  | 0.307034 |\n",
      "| X    | False | 0.782597 |\n",
      "| X    | True  | 0.217403 |\n",
      "+------+-------+----------+\n"
     ]
    }
   ],
   "source": [
    "g.q(D=True)"
   ]
  },
  {
   "cell_type": "code",
   "execution_count": 8,
   "metadata": {
    "collapsed": false
   },
   "outputs": [
    {
     "name": "stdout",
     "output_type": "stream",
     "text": [
      "+------+-------+----------+\n",
      "| Node | Value | Marginal |\n",
      "+------+-------+----------+\n",
      "| C    | False | 0.968000 |\n",
      "| C    | True  | 0.032000 |\n",
      "| D    | False | 0.688800 |\n",
      "| D    | True  | 0.311200 |\n",
      "| P    | high  | 0.100000 |\n",
      "| P    | low   | 0.900000 |\n",
      "| S    | False | 0.000000 |\n",
      "| S*   | \u001b[92mTrue*\u001b[0m | 1.000000 |\n",
      "| X    | False | 0.777600 |\n",
      "| X    | True  | 0.222400 |\n",
      "+------+-------+----------+\n"
     ]
    }
   ],
   "source": [
    "g.q(S=True)"
   ]
  },
  {
   "cell_type": "code",
   "execution_count": 9,
   "metadata": {
    "collapsed": false
   },
   "outputs": [
    {
     "name": "stdout",
     "output_type": "stream",
     "text": [
      "+------+-------+----------+\n",
      "| Node | Value | Marginal |\n",
      "+------+-------+----------+\n",
      "| C    | False | 0.000000 |\n",
      "| C*   | \u001b[92mTrue*\u001b[0m | 1.000000 |\n",
      "| D    | False | 0.350000 |\n",
      "| D    | True  | 0.650000 |\n",
      "| P    | high  | 0.156250 |\n",
      "| P    | low   | 0.843750 |\n",
      "| S    | False | 0.000000 |\n",
      "| S*   | \u001b[92mTrue*\u001b[0m | 1.000000 |\n",
      "| X    | False | 0.100000 |\n",
      "| X    | True  | 0.900000 |\n",
      "+------+-------+----------+\n"
     ]
    }
   ],
   "source": [
    "g.q(C=True, S=True)"
   ]
  },
  {
   "cell_type": "code",
   "execution_count": 11,
   "metadata": {
    "collapsed": false
   },
   "outputs": [
    {
     "name": "stdout",
     "output_type": "stream",
     "text": [
      "+------+-------+----------+\n",
      "| Node | Value | Marginal |\n",
      "+------+-------+----------+\n",
      "| C    | False | 0.660870 |\n",
      "| C    | True  | 0.339130 |\n",
      "| D    | False | 0.000000 |\n",
      "| D*   | \u001b[92mTrue*\u001b[0m | 1.000000 |\n",
      "| P    | low   | 0.000000 |\n",
      "| P*   | \u001b[92mhigh*\u001b[0m | 1.000000 |\n",
      "| S    | False | 0.000000 |\n",
      "| S*   | \u001b[92mTrue*\u001b[0m | 1.000000 |\n",
      "| X    | False | 0.000000 |\n",
      "| X*   | \u001b[92mTrue*\u001b[0m | 1.000000 |\n",
      "+------+-------+----------+\n"
     ]
    }
   ],
   "source": [
    "g.q(D=True,S=True,P='high',X=True)"
   ]
  },
  {
   "cell_type": "code",
   "execution_count": null,
   "metadata": {
    "collapsed": true
   },
   "outputs": [],
   "source": []
  }
 ],
 "metadata": {
  "kernelspec": {
   "display_name": "Python 2",
   "language": "python",
   "name": "python2"
  },
  "language_info": {
   "codemirror_mode": {
    "name": "ipython",
    "version": 2
   },
   "file_extension": ".py",
   "mimetype": "text/x-python",
   "name": "python",
   "nbconvert_exporter": "python",
   "pygments_lexer": "ipython2",
   "version": "2.7.12"
  }
 },
 "nbformat": 4,
 "nbformat_minor": 1
}
